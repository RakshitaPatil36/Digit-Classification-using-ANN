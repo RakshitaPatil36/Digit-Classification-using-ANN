{
  "nbformat": 4,
  "nbformat_minor": 0,
  "metadata": {
    "colab": {
      "provenance": []
    },
    "kernelspec": {
      "name": "python3",
      "display_name": "Python 3"
    },
    "language_info": {
      "name": "python"
    }
  },
  "cells": [
    {
      "cell_type": "code",
      "execution_count": null,
      "metadata": {
        "id": "ot7Qu-nB852J"
      },
      "outputs": [],
      "source": [
        "import tensorflow as tf\n",
        "from tensorflow import keras \n",
        "from tensorflow.keras import Sequential\n",
        "from tensorflow.keras.layers import Dense,Flatten"
      ]
    },
    {
      "cell_type": "code",
      "source": [
        "(xtrain,ytrain),(xtest,ytest)=keras.datasets.mnist.load_data()"
      ],
      "metadata": {
        "colab": {
          "base_uri": "https://localhost:8080/"
        },
        "id": "TClgGhrJ9HVr",
        "outputId": "9cf6601b-4215-4938-b7e1-ccf16e9f0627"
      },
      "execution_count": null,
      "outputs": [
        {
          "output_type": "stream",
          "name": "stdout",
          "text": [
            "Downloading data from https://storage.googleapis.com/tensorflow/tf-keras-datasets/mnist.npz\n",
            "11490434/11490434 [==============================] - 0s 0us/step\n"
          ]
        }
      ]
    },
    {
      "cell_type": "code",
      "source": [
        "xtrain[0].shape   "
      ],
      "metadata": {
        "colab": {
          "base_uri": "https://localhost:8080/"
        },
        "id": "TIYxswO49gX0",
        "outputId": "e43ebb78-fbce-47c3-d28d-5c3d4d0cd052"
      },
      "execution_count": null,
      "outputs": [
        {
          "output_type": "execute_result",
          "data": {
            "text/plain": [
              "(28, 28)"
            ]
          },
          "metadata": {},
          "execution_count": 5
        }
      ]
    },
    {
      "cell_type": "code",
      "source": [
        "xtrain=xtrain/255\n",
        "xtest=xtest/255"
      ],
      "metadata": {
        "id": "QTw0q5LoDJ40"
      },
      "execution_count": null,
      "outputs": []
    },
    {
      "cell_type": "markdown",
      "source": [
        "**Image is divided into 28 rows and 28 columns**"
      ],
      "metadata": {
        "id": "NuZl-zVa9zz1"
      }
    },
    {
      "cell_type": "code",
      "source": [
        "xtrain.shape        "
      ],
      "metadata": {
        "colab": {
          "base_uri": "https://localhost:8080/"
        },
        "id": "rTQALDDe9qxH",
        "outputId": "66dce493-5832-48f7-e42a-b8a7971a9931"
      },
      "execution_count": null,
      "outputs": [
        {
          "output_type": "execute_result",
          "data": {
            "text/plain": [
              "(60000, 28, 28)"
            ]
          },
          "metadata": {},
          "execution_count": 38
        }
      ]
    },
    {
      "cell_type": "markdown",
      "source": [
        "There are 60K records for training and each record i.e image is further divided into 28 rows and 28 columns"
      ],
      "metadata": {
        "id": "V6JZYr9a-J_L"
      }
    },
    {
      "cell_type": "code",
      "source": [
        "import matplotlib.pyplot as plt"
      ],
      "metadata": {
        "id": "grSreqw99_f8"
      },
      "execution_count": null,
      "outputs": []
    },
    {
      "cell_type": "code",
      "source": [
        "plt.imshow(xtrain[3])\n",
        "plt.show()"
      ],
      "metadata": {
        "colab": {
          "base_uri": "https://localhost:8080/",
          "height": 265
        },
        "id": "PKL_v-h3-YTz",
        "outputId": "32c4e4bc-d9d9-4404-b7fd-93781ed764d5"
      },
      "execution_count": null,
      "outputs": [
        {
          "output_type": "display_data",
          "data": {
            "text/plain": [
              "<Figure size 432x288 with 1 Axes>"
            ],
            "image/png": "[encoded data removed]"
          },
          "metadata": {
            "needs_background": "light"
          }
        }
      ]
    },
    {
      "cell_type": "code",
      "source": [
        "ann=Sequential()\n",
        "ann.add(Flatten(input_shape=(28,28)))\n",
        "ann.add(Dense(units=128,activation=\"relu\"))\n",
        "ann.add(Dense(units=64,activation=\"relu\"))\n",
        "\n",
        "ann.add(Dense(units=10,activation=\"softmax\"))\n",
        "\n",
        "ann.summary()"
      ],
      "metadata": {
        "colab": {
          "base_uri": "https://localhost:8080/"
        },
        "id": "SvkvyOxl-c-f",
        "outputId": "cec5a43e-da0b-4eb6-9b73-f6b557338eaa"
      },
      "execution_count": null,
      "outputs": [
        {
          "output_type": "stream",
          "name": "stdout",
          "text": [
            "Model: \"sequential_2\"\n",
            "_________________________________________________________________\n",
            " Layer (type)                Output Shape              Param #   \n",
            "=================================================================\n",
            " flatten_1 (Flatten)         (None, 784)               0         \n",
            "                                                                 \n",
            " dense_3 (Dense)             (None, 128)               100480    \n",
            "                                                                 \n",
            " dense_4 (Dense)             (None, 64)                8256      \n",
            "                                                                 \n",
            " dense_5 (Dense)             (None, 10)                650       \n",
            "                                                                 \n",
            "=================================================================\n",
            "Total params: 109,386\n",
            "Trainable params: 109,386\n",
            "Non-trainable params: 0\n",
            "_________________________________________________________________\n"
          ]
        }
      ]
    },
    {
      "cell_type": "code",
      "source": [
        "ann.compile(optimizer=\"adam\",loss=\"sparse_categorical_crossentropy\",metrics=\"accuracy\")\n"
      ],
      "metadata": {
        "id": "EAo81P-k-2cr"
      },
      "execution_count": null,
      "outputs": []
    },
    {
      "cell_type": "code",
      "source": [
        "ann.fit(xtrain,ytrain,epochs=30,validation_split=0.2)\n"
      ],
      "metadata": {
        "colab": {
          "base_uri": "https://localhost:8080/"
        },
        "id": "3deAxC8YACCI",
        "outputId": "633d0339-878b-4bfe-d4fd-f90e2b8ee5ff"
      },
      "execution_count": null,
      "outputs": [
        {
          "output_type": "stream",
          "name": "stdout",
          "text": [
            "Epoch 1/30\n",
            "1500/1500 [==============================] - 11s 7ms/step - loss: 0.2672 - accuracy: 0.9225 - val_loss: 0.1464 - val_accuracy: 0.9586\n",
            "Epoch 2/30\n",
            "1500/1500 [==============================] - 10s 7ms/step - loss: 0.1132 - accuracy: 0.9657 - val_loss: 0.1066 - val_accuracy: 0.9684\n",
            "Epoch 3/30\n",
            "1500/1500 [==============================] - 9s 6ms/step - loss: 0.0798 - accuracy: 0.9756 - val_loss: 0.1091 - val_accuracy: 0.9672\n",
            "Epoch 4/30\n",
            "1500/1500 [==============================] - 10s 7ms/step - loss: 0.0582 - accuracy: 0.9819 - val_loss: 0.1060 - val_accuracy: 0.9697\n",
            "Epoch 5/30\n",
            "1500/1500 [==============================] - 11s 7ms/step - loss: 0.0454 - accuracy: 0.9852 - val_loss: 0.0892 - val_accuracy: 0.9748\n",
            "Epoch 6/30\n",
            "1500/1500 [==============================] - 10s 7ms/step - loss: 0.0370 - accuracy: 0.9884 - val_loss: 0.1023 - val_accuracy: 0.9732\n",
            "Epoch 7/30\n",
            "1500/1500 [==============================] - 10s 6ms/step - loss: 0.0302 - accuracy: 0.9902 - val_loss: 0.1104 - val_accuracy: 0.9721\n",
            "Epoch 8/30\n",
            "1500/1500 [==============================] - 9s 6ms/step - loss: 0.0257 - accuracy: 0.9914 - val_loss: 0.1298 - val_accuracy: 0.9681\n",
            "Epoch 9/30\n",
            "1500/1500 [==============================] - 10s 7ms/step - loss: 0.0218 - accuracy: 0.9925 - val_loss: 0.1116 - val_accuracy: 0.9737\n",
            "Epoch 10/30\n",
            "1500/1500 [==============================] - 11s 7ms/step - loss: 0.0184 - accuracy: 0.9940 - val_loss: 0.1126 - val_accuracy: 0.9768\n",
            "Epoch 11/30\n",
            "1500/1500 [==============================] - 11s 7ms/step - loss: 0.0188 - accuracy: 0.9939 - val_loss: 0.1145 - val_accuracy: 0.9748\n",
            "Epoch 12/30\n",
            "1500/1500 [==============================] - 9s 6ms/step - loss: 0.0164 - accuracy: 0.9943 - val_loss: 0.1124 - val_accuracy: 0.9780\n",
            "Epoch 13/30\n",
            "1500/1500 [==============================] - 10s 6ms/step - loss: 0.0119 - accuracy: 0.9964 - val_loss: 0.1394 - val_accuracy: 0.9742\n",
            "Epoch 14/30\n",
            "1500/1500 [==============================] - 11s 7ms/step - loss: 0.0122 - accuracy: 0.9959 - val_loss: 0.1275 - val_accuracy: 0.9768\n",
            "Epoch 15/30\n",
            "1500/1500 [==============================] - 11s 7ms/step - loss: 0.0134 - accuracy: 0.9954 - val_loss: 0.1268 - val_accuracy: 0.9759\n",
            "Epoch 16/30\n",
            "1500/1500 [==============================] - 10s 7ms/step - loss: 0.0119 - accuracy: 0.9958 - val_loss: 0.1504 - val_accuracy: 0.9727\n",
            "Epoch 17/30\n",
            "1500/1500 [==============================] - 9s 6ms/step - loss: 0.0088 - accuracy: 0.9972 - val_loss: 0.1364 - val_accuracy: 0.9778\n",
            "Epoch 18/30\n",
            "1500/1500 [==============================] - 10s 7ms/step - loss: 0.0124 - accuracy: 0.9960 - val_loss: 0.1301 - val_accuracy: 0.9779\n",
            "Epoch 19/30\n",
            "1500/1500 [==============================] - 10s 7ms/step - loss: 0.0084 - accuracy: 0.9972 - val_loss: 0.1436 - val_accuracy: 0.9757\n",
            "Epoch 20/30\n",
            "1500/1500 [==============================] - 11s 7ms/step - loss: 0.0120 - accuracy: 0.9959 - val_loss: 0.1889 - val_accuracy: 0.9698\n",
            "Epoch 21/30\n",
            "1500/1500 [==============================] - 11s 7ms/step - loss: 0.0075 - accuracy: 0.9975 - val_loss: 0.1526 - val_accuracy: 0.9773\n",
            "Epoch 22/30\n",
            "1500/1500 [==============================] - 9s 6ms/step - loss: 0.0093 - accuracy: 0.9967 - val_loss: 0.1635 - val_accuracy: 0.9746\n",
            "Epoch 23/30\n",
            "1500/1500 [==============================] - 10s 7ms/step - loss: 0.0084 - accuracy: 0.9974 - val_loss: 0.1600 - val_accuracy: 0.9768\n",
            "Epoch 24/30\n",
            "1500/1500 [==============================] - 11s 7ms/step - loss: 0.0077 - accuracy: 0.9975 - val_loss: 0.1861 - val_accuracy: 0.9741\n",
            "Epoch 25/30\n",
            "1500/1500 [==============================] - 11s 7ms/step - loss: 0.0106 - accuracy: 0.9967 - val_loss: 0.1746 - val_accuracy: 0.9751\n",
            "Epoch 26/30\n",
            "1500/1500 [==============================] - 10s 7ms/step - loss: 0.0070 - accuracy: 0.9978 - val_loss: 0.1453 - val_accuracy: 0.9782\n",
            "Epoch 27/30\n",
            "1500/1500 [==============================] - 9s 6ms/step - loss: 0.0089 - accuracy: 0.9973 - val_loss: 0.1984 - val_accuracy: 0.9718\n",
            "Epoch 28/30\n",
            "1500/1500 [==============================] - 10s 7ms/step - loss: 0.0084 - accuracy: 0.9975 - val_loss: 0.1570 - val_accuracy: 0.9787\n",
            "Epoch 29/30\n",
            "1500/1500 [==============================] - 10s 7ms/step - loss: 0.0048 - accuracy: 0.9983 - val_loss: 0.1525 - val_accuracy: 0.9783\n",
            "Epoch 30/30\n",
            "1500/1500 [==============================] - 11s 7ms/step - loss: 0.0088 - accuracy: 0.9970 - val_loss: 0.1896 - val_accuracy: 0.9747\n"
          ]
        },
        {
          "output_type": "execute_result",
          "data": {
            "text/plain": [
              "<keras.callbacks.History at 0x7f2e092f08b0>"
            ]
          },
          "metadata": {},
          "execution_count": 42
        }
      ]
    },
    {
      "cell_type": "code",
      "source": [
        "ypred=ann.predict(xtest)\n",
        "ypred"
      ],
      "metadata": {
        "colab": {
          "base_uri": "https://localhost:8080/"
        },
        "id": "8r_gzqGbAO8v",
        "outputId": "3d65775d-df05-4c09-f209-006d92c2d99e"
      },
      "execution_count": null,
      "outputs": [
        {
          "output_type": "stream",
          "name": "stdout",
          "text": [
            "313/313 [==============================] - 1s 2ms/step\n"
          ]
        },
        {
          "output_type": "execute_result",
          "data": {
            "text/plain": [
              "array([[1.6869428e-24, 3.1689104e-17, 1.4468701e-17, ..., 9.9999994e-01,\n",
              "        1.1540405e-21, 6.0581546e-18],\n",
              "       [1.4233170e-28, 5.2516747e-10, 9.9999994e-01, ..., 1.4234992e-24,\n",
              "        2.7561991e-12, 1.4665421e-31],\n",
              "       [1.0113713e-11, 9.9999827e-01, 7.5658901e-10, ..., 1.7055975e-06,\n",
              "        5.4237614e-09, 6.5252615e-15],\n",
              "       ...,\n",
              "       [2.8924157e-22, 1.1300731e-18, 1.0617259e-20, ..., 3.8332362e-12,\n",
              "        1.1344081e-13, 3.6566216e-14],\n",
              "       [1.8662652e-23, 1.5796981e-29, 7.9238888e-36, ..., 6.6729598e-30,\n",
              "        1.7143089e-13, 2.4061305e-25],\n",
              "       [3.6699972e-28, 0.0000000e+00, 2.7348043e-33, ..., 0.0000000e+00,\n",
              "        2.9106157e-27, 1.9160133e-28]], dtype=float32)"
            ]
          },
          "metadata": {},
          "execution_count": 43
        }
      ]
    },
    {
      "cell_type": "code",
      "source": [
        "ypred=ypred.argmax(axis=1)"
      ],
      "metadata": {
        "id": "Acac44lkCFRN"
      },
      "execution_count": null,
      "outputs": []
    },
    {
      "cell_type": "code",
      "source": [
        "ypred"
      ],
      "metadata": {
        "colab": {
          "base_uri": "https://localhost:8080/"
        },
        "id": "vx2cSKk8COZI",
        "outputId": "ff93e1f8-ad6b-4975-9592-3550dcc9a2fc"
      },
      "execution_count": null,
      "outputs": [
        {
          "output_type": "execute_result",
          "data": {
            "text/plain": [
              "array([7, 2, 1, ..., 4, 5, 6])"
            ]
          },
          "metadata": {},
          "execution_count": 45
        }
      ]
    },
    {
      "cell_type": "code",
      "source": [
        "ypred[3]"
      ],
      "metadata": {
        "colab": {
          "base_uri": "https://localhost:8080/"
        },
        "id": "Lo2D2BGtCPEQ",
        "outputId": "9dbbcf0b-270f-4845-cbae-928015220937"
      },
      "execution_count": null,
      "outputs": [
        {
          "output_type": "execute_result",
          "data": {
            "text/plain": [
              "0"
            ]
          },
          "metadata": {},
          "execution_count": 46
        }
      ]
    },
    {
      "cell_type": "code",
      "source": [
        "ytest[3] #actual value"
      ],
      "metadata": {
        "colab": {
          "base_uri": "https://localhost:8080/"
        },
        "id": "1_9n2itXCSwz",
        "outputId": "c8d137dc-18f9-4656-9f85-b6b80e669b02"
      },
      "execution_count": null,
      "outputs": [
        {
          "output_type": "execute_result",
          "data": {
            "text/plain": [
              "0"
            ]
          },
          "metadata": {},
          "execution_count": 47
        }
      ]
    },
    {
      "cell_type": "code",
      "source": [
        "from sklearn.metrics import classification_report"
      ],
      "metadata": {
        "id": "x8emsE8KCWLU"
      },
      "execution_count": null,
      "outputs": []
    },
    {
      "cell_type": "code",
      "source": [
        "print(classification_report(ytest,ypred))"
      ],
      "metadata": {
        "colab": {
          "base_uri": "https://localhost:8080/"
        },
        "id": "zCsZIqfBCoO3",
        "outputId": "9e3fc3f4-444d-4080-f511-7a2db1b7fa6a"
      },
      "execution_count": null,
      "outputs": [
        {
          "output_type": "stream",
          "name": "stdout",
          "text": [
            "              precision    recall  f1-score   support\n",
            "\n",
            "           0       0.99      0.98      0.99       980\n",
            "           1       0.99      0.99      0.99      1135\n",
            "           2       0.98      0.97      0.98      1032\n",
            "           3       0.94      0.99      0.96      1010\n",
            "           4       0.98      0.97      0.97       982\n",
            "           5       0.98      0.95      0.97       892\n",
            "           6       0.97      0.98      0.98       958\n",
            "           7       0.97      0.99      0.98      1028\n",
            "           8       0.97      0.97      0.97       974\n",
            "           9       0.97      0.97      0.97      1009\n",
            "\n",
            "    accuracy                           0.97     10000\n",
            "   macro avg       0.97      0.97      0.97     10000\n",
            "weighted avg       0.97      0.97      0.97     10000\n",
            "\n"
          ]
        }
      ]
    },
    {
      "cell_type": "code",
      "source": [],
      "metadata": {
        "id": "95w9rtcdCrgf"
      },
      "execution_count": null,
      "outputs": []
    },
    {
      "cell_type": "code",
      "source": [],
      "metadata": {
        "id": "gH0m2N2lEtSQ"
      },
      "execution_count": null,
      "outputs": []
    }
  ]
}